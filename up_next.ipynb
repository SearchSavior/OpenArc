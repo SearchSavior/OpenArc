{
 "cells": [
  {
   "cell_type": "markdown",
   "metadata": {},
   "source": [
    "Next Features:\n",
    "\n",
    "- Add handling for multiple models in memory.\n",
    "    - Add a model_instance_manager class to the API to handle multiple model instances.\n",
    "    - Add a required parameter that assigns as alias to each model that ties to id_model so we dont need to change Optimum_InferenceCore\n",
    "     \n",
    "\n",
    "\n"
   ]
  }
 ],
 "metadata": {
  "language_info": {
   "name": "python"
  }
 },
 "nbformat": 4,
 "nbformat_minor": 2
}
