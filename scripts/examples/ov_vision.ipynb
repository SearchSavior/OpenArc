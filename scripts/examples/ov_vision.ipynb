{
 "cells": [
  {
   "cell_type": "code",
   "execution_count": 5,
   "metadata": {},
   "outputs": [
    {
     "name": "stdout",
     "output_type": "stream",
     "text": [
      "Input token length: 547\n",
      "Generated text: ['The image is a scanned page from a book, specifically page number xxiii. The text is written in English and appears to be a dedication or introductory note. The page is divided into two main sections, with the first section titled \"Dedication\" and the second section containing a series of statements and reflections.\\n\\n### Markdown Format of the Text:\\n\\n```markdown\\n**Dedication.** xxiii\\n\\ntaking the word \\'law\\' in two different senses. You are confounding, as Hooker and Montes- quieu confounded, the laws which depend for their validity on rewards and punishments, with the laws which are generalizations from phenomena.\" I reply, \"It is true that I am using the word \\'law\\' as Hooker and Montes- quieu used it. I am using it so deliberately. For I believe that those who make moral laws depend upon the rewards and punishments which enforce them are destroying morality; and that those who make physical laws into mere generalizations from phenomena, are doing their utmost to hinder the search for physical laws; are resolving that we shall have no more Newtons, or Faradays, or Watts; are striving that the student may be crushed under the phenomena which he fancies he can classify.\" It was when the Commandments of God were hidden under the traditions of men, that science was impossible, because pheno- mena were worshipped. The assertion at the\\n```\\n\\n### Analysis and Description:\\n\\nThe text on the page seems to be a philosophical or theological reflection on the nature of laws and their application. The author references historical figures such as Hooker and Montesquieu, who were prominent figures in the development of political and legal thought during the Renaissance and Enlightenment periods.\\n\\nThe first part of the text discusses the concept of \"law\" in two different senses: one referring to laws that depend on rewards and punishments for their validity, and the other referring to generalizations from phenomena. The author acknowledges the use of the word \"law\" in both senses and reflects on the implications of these different interpretations.\\n\\nThe second part of the text delves into a critique of moral laws that are enforced through rewards and punishments, arguing that such laws can undermine morality. The author contrasts this with physical laws, which are seen as more objective and less prone to manipulation for moral purposes. The author suggests that the pursuit of physical laws, such as those of Newton, Faraday, and Watts, is hindered by the classification of phenomena, which can lead to the suppression of scientific progress.\\n\\nThe final part of the text references the Commandments of God and their historical context, suggesting that when these divine laws were obscured by human traditions, science was hindered. The author implies that the worship of phenomena (natural occurrences) can prevent the discovery and understanding of scientific laws.\\n\\n### Conclusion:\\n\\nThis page from the book appears to be a deep reflection on the nature of laws and their impact on society, particularly in the context of moral and scientific laws. The author\\'s critique of moral laws enforced through rewards and punishments and the promotion of physical laws as a means to hinder the search for scientific laws highlight themes of morality, science, and the role of tradition in shaping human understanding.']\n",
      "Generation time: 38.98 seconds\n",
      "Tokens generated: 648\n",
      "Speed: 16.62 tokens/second\n"
     ]
    }
   ],
   "source": [
    "import time\n",
    "import warnings\n",
    "from PIL import Image\n",
    "from transformers import AutoProcessor\n",
    "from optimum.intel.openvino import OVModelForVisualCausalLM\n",
    "\n",
    "# Suppress specific deprecation warnings from optimum implementation of numpy arrays\n",
    "# This block prevents clogging the API logs \n",
    "warnings.filterwarnings(\"ignore\", message=\"__array__ implementation doesn't accept a copy keyword\")\n",
    "\n",
    "\n",
    "model_id = \"/mnt/Ironwolf-4TB/Models/OpenVINO/Qwen2-VL-7B-Instruct-int4_asym-ov\"\n",
    "# Load the model in half-precision on the available device(s)\n",
    "\n",
    "ov_config = {\"PERFORMANCE_HINT\": \"LATENCY\"}\n",
    "model = OVModelForVisualCausalLM.from_pretrained(model_id, export=False, device=\"GPU.0\", ov_config=ov_config)\n",
    "processor = AutoProcessor.from_pretrained(model_id)\n",
    "\n",
    "\n",
    "image_path = \"dedication.png\"\n",
    "image = Image.open(image_path)\n",
    "\n",
    "conversation = [\n",
    "    {\n",
    "        \"role\": \"user\",\n",
    "        \"content\": [\n",
    "            {\n",
    "                \"type\": \"image\",\n",
    "            },\n",
    "            {\"type\": \"text\", \"text\": \"Describe this image.\"},\n",
    "        ],\n",
    "    }\n",
    "]\n",
    "\n",
    "\n",
    "# Preprocess the inputs\n",
    "text_prompt = processor.apply_chat_template(conversation, add_generation_prompt=True)\n",
    "# Excepted output: '<|im_start|>system\\nYou are a helpful assistant.<|im_end|>\\n<|im_start|>user\\n<|vision_start|><|image_pad|><|vision_end|>Describe this image.<|im_end|>\\n<|im_start|>assistant\\n'\n",
    "\n",
    "inputs = processor(text=[text_prompt], images=[image], padding=True, return_tensors=\"pt\")\n",
    "\n",
    "# Print tokenizer length\n",
    "print(f\"Input token length: {len(inputs.input_ids[0])}\")\n",
    "\n",
    "# Inference: Generation of the output with performance metrics\n",
    "start_time = time.time()\n",
    "output_ids = model.generate(**inputs, max_new_tokens=1024)\n",
    "generation_time = time.time() - start_time\n",
    "\n",
    "generated_ids = [output_ids[len(input_ids) :] for input_ids, output_ids in zip(inputs.input_ids, output_ids)]\n",
    "output_text = processor.batch_decode(generated_ids, skip_special_tokens=True, clean_up_tokenization_spaces=True)\n",
    "\n",
    "# Calculate tokens per second\n",
    "num_tokens_generated = len(generated_ids[0])\n",
    "tokens_per_second = num_tokens_generated / generation_time\n",
    "\n",
    "print(f\"Generated text: {output_text}\")\n",
    "print(f\"Generation time: {generation_time:.2f} seconds\")\n",
    "print(f\"Tokens generated: {num_tokens_generated}\")\n",
    "print(f\"Speed: {tokens_per_second:.2f} tokens/second\")"
   ]
  },
  {
   "cell_type": "code",
   "execution_count": null,
   "metadata": {},
   "outputs": [],
   "source": [
    "!pip list"
   ]
  },
  {
   "cell_type": "code",
   "execution_count": null,
   "metadata": {},
   "outputs": [],
   "source": [
    "import gradio as gr\n",
    "import time\n",
    "\n",
    "def echo(message, history, system_prompt, tokens):\n",
    "    response = f\"System prompt: {system_prompt}\\n Message: {message}.\"\n",
    "    for i in range(min(len(response), int(tokens))):\n",
    "        time.sleep(0.05)\n",
    "        yield response[: i + 1]\n",
    "\n",
    "demo = gr.ChatInterface(\n",
    "    echo,\n",
    "    type=\"messages\",\n",
    "    additional_inputs=[\n",
    "        gr.Textbox(\"You are helpful AI.\", label=\"System Prompt\"),\n",
    "        gr.Slider(10, 100),\n",
    "    ],\n",
    ")\n",
    "\n",
    "demo.launch()\n"
   ]
  }
 ],
 "metadata": {
  "kernelspec": {
   "display_name": "OpenArc-Test",
   "language": "python",
   "name": "python3"
  },
  "language_info": {
   "codemirror_mode": {
    "name": "ipython",
    "version": 3
   },
   "file_extension": ".py",
   "mimetype": "text/x-python",
   "name": "python",
   "nbconvert_exporter": "python",
   "pygments_lexer": "ipython3",
   "version": "3.11.9"
  }
 },
 "nbformat": 4,
 "nbformat_minor": 2
}
