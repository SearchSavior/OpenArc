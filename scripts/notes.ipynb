{
 "cells": [
  {
   "cell_type": "markdown",
   "metadata": {},
   "source": [
    "### Agentic Model Server\n",
    "\n",
    "\n",
    "OK, we need to build out a  "
   ]
  },
  {
   "cell_type": "markdown",
   "metadata": {},
   "source": [
    "### CLI Chat Prompt\n",
    "\n",
    "\n",
    "OK, let's build out a CLI chat interface for the model server. for this, we need to use our pydantic model to create typing for an argument parser. "
   ]
  },
  {
   "cell_type": "code",
   "execution_count": null,
   "metadata": {},
   "outputs": [],
   "source": [
    "!conda install openvino\n"
   ]
  },
  {
   "cell_type": "markdown",
   "metadata": {},
   "source": []
  },
  {
   "cell_type": "code",
   "execution_count": null,
   "metadata": {},
   "outputs": [],
   "source": [
    "import openvino_genai\n",
    "\n",
    "model_dir = \"/mnt/Ironwolf-4TB/Models/Pytorch/Qwen2.5-0.5B-Instruct-ov\"\n",
    "\n",
    "def streamer(subword):\n",
    "    print(subword, end='', flush=True)\n",
    "    return False\n",
    "\n",
    "\n",
    "def infer(model_dir: str):\n",
    "    device = 'CPU'  # GPU can be used as well.\n",
    "    pipe = openvino_genai.LLMPipeline(model_dir, device)\n",
    "\n",
    "    config = openvino_genai.GenerationConfig()\n",
    "    config.max_new_tokens = 100\n",
    "\n",
    "    pipe.start_chat()\n",
    "    while True:\n",
    "        try:\n",
    "            prompt = input('question:\\n')\n",
    "        except EOFError:\n",
    "            break\n",
    "        pipe.generate(prompt, config, streamer)\n",
    "        print('\\n----------')\n",
    "    pipe.finish_chat()"
   ]
  },
  {
   "cell_type": "code",
   "execution_count": null,
   "metadata": {},
   "outputs": [],
   "source": []
  }
 ],
 "metadata": {
  "kernelspec": {
   "display_name": "Python 3",
   "language": "python",
   "name": "python3"
  },
  "language_info": {
   "codemirror_mode": {
    "name": "ipython",
    "version": 3
   },
   "file_extension": ".py",
   "mimetype": "text/x-python",
   "name": "python",
   "nbconvert_exporter": "python",
   "pygments_lexer": "ipython3",
   "version": "3.12.2"
  }
 },
 "nbformat": 4,
 "nbformat_minor": 2
}
